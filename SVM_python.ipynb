{
 "cells": [
  {
   "cell_type": "code",
   "execution_count": null,
   "metadata": {},
   "outputs": [],
   "source": [
    "import pandas as pd"
   ]
  },
  {
   "cell_type": "code",
   "execution_count": null,
   "metadata": {},
   "outputs": [],
   "source": [
    "data = {\n",
    "    'Class 1': [(0.9, 1.3), (1.2, 0.8), (0.9, 1.1), (1.3, 1.5), (1.0, 1.1),\n",
    "                (1.2, 1.0), (1.5, 1.2), (1.6, 0.5), (1.7, 1.3), (0.4, 1.4)],\n",
    "    'Class 2': [(2.8, 3.3), (3.3, 2.9), (3.0, 3.1), (3.4, 3.3), (2.9, 3.0),\n",
    "                (3.0, 3.0), (3.4, 3.4), (3.4, 2.4), (3.6, 3.2), (2.6, 3.5)],\n",
    "    'Class 3': [(-1.3, -0.9), (-0.7, -1.3), (-1.1, -1.0), (-1.3, -1.5), (-1.0, -1.2),\n",
    "                (-1.1, -1.0), (-1.5, -1.4), (-1.4, -0.4), (-1.7, -1.3), (-0.6, -1.6)]\n",
    "}\n",
    "\n",
    "df = pd.DataFrame(data)\n",
    "print(df)"
   ]
  },
  {
   "cell_type": "code",
   "execution_count": null,
   "metadata": {},
   "outputs": [],
   "source": [
    "import matplotlib.pyplot as plt\n",
    "\n",
    "class1_x, class1_y = zip(*df['Class 1'])\n",
    "class2_x, class2_y = zip(*df['Class 2'])\n",
    "class3_x, class3_y = zip(*df['Class 3'])\n",
    "\n",
    "plt.scatter(class1_x, class1_y, color='red', label='Class 1')\n",
    "plt.scatter(class2_x, class2_y, color='blue', label='Class 2')\n",
    "plt.scatter(class3_x, class3_y, color='green', label='Class 3')\n",
    "\n",
    "plt.xlabel('X')\n",
    "plt.ylabel('Y')\n",
    "plt.title('Linearly Separable Dataset with Three Classes')\n",
    "plt.legend()\n",
    "\n",
    "plt.grid(True)\n",
    "plt.show()"
   ]
  },
  {
   "cell_type": "code",
   "execution_count": null,
   "metadata": {},
   "outputs": [],
   "source": [
    "plt.savefig(\"plot.png\")\n"
   ]
  },
  {
   "cell_type": "code",
   "execution_count": null,
   "metadata": {},
   "outputs": [],
   "source": []
  }
 ],
 "metadata": {
  "kernelspec": {
   "display_name": "Python 3",
   "language": "python",
   "name": "python3"
  },
  "language_info": {
   "codemirror_mode": {
    "name": "ipython",
    "version": 3
   },
   "file_extension": ".py",
   "mimetype": "text/x-python",
   "name": "python",
   "nbconvert_exporter": "python",
   "pygments_lexer": "ipython3",
   "version": "3.10.8"
  }
 },
 "nbformat": 4,
 "nbformat_minor": 2
}

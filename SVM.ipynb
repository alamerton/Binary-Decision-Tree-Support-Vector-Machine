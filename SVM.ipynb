{
 "cells": [
  {
   "cell_type": "code",
   "execution_count": 1,
   "metadata": {},
   "outputs": [],
   "source": [
    "import pandas as pd\n",
    "import numpy as np"
   ]
  },
  {
   "cell_type": "code",
   "execution_count": 4,
   "metadata": {},
   "outputs": [
    {
     "name": "stdout",
     "output_type": "stream",
     "text": [
      "      Class 1     Class 2       Class 3\n",
      "0  (0.8, 1.2)  (2.8, 3.2)  (-1.2, -0.8)\n",
      "1  (1.2, 0.8)  (3.2, 2.8)  (-0.8, -1.2)\n",
      "2  (1.0, 1.0)  (3.0, 3.0)  (-1.0, -1.0)\n",
      "3  (1.3, 1.4)  (3.3, 3.4)  (-1.3, -1.4)\n",
      "4  (0.9, 1.1)  (2.9, 3.1)  (-0.9, -1.1)\n",
      "5  (1.1, 0.9)  (3.1, 2.9)  (-1.1, -0.9)\n",
      "6  (1.4, 1.3)  (3.4, 3.3)  (-1.4, -1.3)\n",
      "7  (1.5, 0.5)  (3.5, 2.5)  (-1.5, -0.5)\n",
      "8  (1.7, 1.3)  (3.7, 3.3)  (-1.7, -1.3)\n",
      "9  (0.5, 1.5)  (2.5, 3.5)  (-0.5, -1.5)\n"
     ]
    }
   ],
   "source": [
    "data = {\n",
    "    'Class 1': [(0.8, 1.2), (1.2, 0.8), (1.0, 1.0), (1.3, 1.4), (0.9, 1.1),\n",
    "                (1.1, 0.9), (1.4, 1.3), (1.5, 0.5), (1.7, 1.3), (0.5, 1.5)],\n",
    "    'Class 2': [(2.8, 3.2), (3.2, 2.8), (3.0, 3.0), (3.3, 3.4), (2.9, 3.1),\n",
    "                (3.1, 2.9), (3.4, 3.3), (3.5, 2.5), (3.7, 3.3), (2.5, 3.5)],\n",
    "    'Class 3': [(-1.2, -0.8), (-0.8, -1.2), (-1.0, -1.0), (-1.3, -1.4), (-0.9, -1.1),\n",
    "                (-1.1, -0.9), (-1.4, -1.3), (-1.5, -0.5), (-1.7, -1.3), (-0.5, -1.5)]\n",
    "}\n",
    "\n",
    "df = pd.DataFrame(data)\n",
    "print(df)"
   ]
  }
 ],
 "metadata": {
  "kernelspec": {
   "display_name": "Python 3",
   "language": "python",
   "name": "python3"
  },
  "language_info": {
   "codemirror_mode": {
    "name": "ipython",
    "version": 3
   },
   "file_extension": ".py",
   "mimetype": "text/x-python",
   "name": "python",
   "nbconvert_exporter": "python",
   "pygments_lexer": "ipython3",
   "version": "3.10.8"
  }
 },
 "nbformat": 4,
 "nbformat_minor": 2
}
